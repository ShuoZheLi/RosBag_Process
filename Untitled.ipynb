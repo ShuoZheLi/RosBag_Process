{
 "cells": [
  {
   "cell_type": "code",
   "execution_count": null,
   "id": "ee2b69c0",
   "metadata": {},
   "outputs": [],
   "source": [
    "import numpy as np\n",
    "import scipy\n",
    "import rospy\n",
    "from sensor_msgs.msg import LaserScan\n",
    "from nav_msgs.msg import Path\n",
    "from geometry_msgs.msg import Twist\n",
    "from nav_msgs.msg import Odometry\n",
    "import pandas as pd"
   ]
  },
  {
   "cell_type": "code",
   "execution_count": null,
   "id": "ff3dec56",
   "metadata": {},
   "outputs": [],
   "source": [
    "class StepRecorder:\n",
    "    def __init__(self):\n",
    "        self.X = 0\n",
    "        self.Y = 0\n",
    "        self.Z = 0\n",
    "        self.PSI = 0\n",
    "\n",
    "        self.laser_scan = None\n",
    "        self.global_path = None\n",
    "        self.v = 0\n",
    "        self.w = 0\n",
    "\n",
    "    def laser_scan_callback(self, msg: LaserScan):\n",
    "        self.laser_scan = msg.ranges\n",
    "\n",
    "    def robot_stat_callback(self, msg: Odometry):\n",
    "        q1 = msg.pose.pose.orientation.x\n",
    "        q2 = msg.pose.pose.orientation.y\n",
    "        q3 = msg.pose.pose.orientation.z\n",
    "        q0 = msg.pose.pose.orientation.w\n",
    "        self.X = msg.pose.pose.position.x\n",
    "        self.Y = msg.pose.pose.position.y\n",
    "        self.Z = msg.pose.pose.position.z\n",
    "        self.PSI = np.arctan2(2 * (q0*q3 + q1*q2), (1 - 2*(q2**2+q3**2)))\n",
    "\n",
    "    def transform_lg(self, wp, X, Y, PSI):\n",
    "        R_r2i = np.matrix([[np.cos(PSI), -np.sin(PSI), X], [np.sin(PSI), np.cos(PSI), Y], [0, 0, 1]])\n",
    "        R_i2r = np.linalg.inv(R_r2i)\n",
    "        pi = np.matrix([[wp[0]], [wp[1]], [1]])\n",
    "        pr = np.matmul(R_i2r, pi)\n",
    "        lg = np.array([pr[0, 0], pr[1, 0]])\n",
    "        return lg\n",
    "\n",
    "    def global_path_callback(self, msg: Path):\n",
    "        gp = []\n",
    "        for pose in msg.poses:\n",
    "            gp.append([pose.pose.position.x, pose.pose.position.y])\n",
    "        gp = np.array(gp)\n",
    "        x = gp[:,0]\n",
    "        try:\n",
    "            xhat = scipy.signal.savgol_filter(x, 19, 3)\n",
    "        except:\n",
    "            xhat = x\n",
    "        y = gp[:,1]\n",
    "        try:\n",
    "            yhat = scipy.signal.savgol_filter(y, 19, 3)\n",
    "        except:\n",
    "            yhat = y\n",
    "        gphat = np.column_stack((xhat, yhat))\n",
    "        gphat.tolist()\n",
    "        self.global_path = gphat\n",
    "\n",
    "    def velocity_callback(self, msg: Twist):\n",
    "        self.v = msg.linear.x\n",
    "        self.w = msg.angular.z\n",
    "\n",
    "\n",
    "    def get_obs(self):\n",
    "        laser_scan = self.laser_scan\n",
    "\n",
    "        # print(\"!!!!!! \",str(self.global_path))\n",
    "\n",
    "        goal = self.global_path[-1]  # Goal is the last point on the global path\n",
    "        # transform the goal coordinates in robot's frame\n",
    "        goal = self.transform_lg(goal, self.X, self.Y, self.PSI).reshape(-1)\n",
    "\n",
    "        # observation is laser_scan + goal coordinate\n",
    "        return np.concatenate([laser_scan, goal])\n",
    "\n",
    "    def get_act(self):\n",
    "        return np.array([self.v, self.w])"
   ]
  }
 ],
 "metadata": {
  "kernelspec": {
   "display_name": "Python 3.6.9 64-bit",
   "language": "python",
   "name": "python3"
  },
  "language_info": {
   "name": "python",
   "version": "3.6.9"
  },
  "vscode": {
   "interpreter": {
    "hash": "31f2aee4e71d21fbe5cf8b01ff0e069b9275f58929596ceb00d14d90e3e16cd6"
   }
  }
 },
 "nbformat": 4,
 "nbformat_minor": 5
}
